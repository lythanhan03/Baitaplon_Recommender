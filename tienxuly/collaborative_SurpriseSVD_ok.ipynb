{
 "cells": [
  {
   "cell_type": "code",
   "execution_count": 1,
   "id": "38144913",
   "metadata": {},
   "outputs": [],
   "source": [
    "import surprise\n",
    "import numpy as np\n",
    "import pandas as pd\n",
    "import matplotlib\n",
    "import seaborn\n",
    "import matplotlib.pyplot as plt"
   ]
  },
  {
   "cell_type": "code",
   "execution_count": 2,
   "id": "47981019",
   "metadata": {},
   "outputs": [],
   "source": [
    "movies = pd.read_csv(r'D:\\Python\\DULIEU\\movies.csv')\n",
    "ratings = pd.read_csv(r'D:\\Python\\DULIEU\\ratings.csv')\n"
   ]
  },
  {
   "cell_type": "code",
   "execution_count": 3,
   "id": "1269e220",
   "metadata": {},
   "outputs": [
    {
     "data": {
      "text/html": [
       "<div>\n",
       "<style scoped>\n",
       "    .dataframe tbody tr th:only-of-type {\n",
       "        vertical-align: middle;\n",
       "    }\n",
       "\n",
       "    .dataframe tbody tr th {\n",
       "        vertical-align: top;\n",
       "    }\n",
       "\n",
       "    .dataframe thead th {\n",
       "        text-align: right;\n",
       "    }\n",
       "</style>\n",
       "<table border=\"1\" class=\"dataframe\">\n",
       "  <thead>\n",
       "    <tr style=\"text-align: right;\">\n",
       "      <th></th>\n",
       "      <th>movieId</th>\n",
       "      <th>title</th>\n",
       "      <th>genres</th>\n",
       "    </tr>\n",
       "  </thead>\n",
       "  <tbody>\n",
       "    <tr>\n",
       "      <th>0</th>\n",
       "      <td>1</td>\n",
       "      <td>Toy Story (1995)</td>\n",
       "      <td>Adventure|Animation|Children|Comedy|Fantasy</td>\n",
       "    </tr>\n",
       "    <tr>\n",
       "      <th>1</th>\n",
       "      <td>2</td>\n",
       "      <td>Jumanji (1995)</td>\n",
       "      <td>Adventure|Children|Fantasy</td>\n",
       "    </tr>\n",
       "    <tr>\n",
       "      <th>2</th>\n",
       "      <td>3</td>\n",
       "      <td>Grumpier Old Men (1995)</td>\n",
       "      <td>Comedy|Romance</td>\n",
       "    </tr>\n",
       "    <tr>\n",
       "      <th>3</th>\n",
       "      <td>4</td>\n",
       "      <td>Waiting to Exhale (1995)</td>\n",
       "      <td>Comedy|Drama|Romance</td>\n",
       "    </tr>\n",
       "    <tr>\n",
       "      <th>4</th>\n",
       "      <td>5</td>\n",
       "      <td>Father of the Bride Part II (1995)</td>\n",
       "      <td>Comedy</td>\n",
       "    </tr>\n",
       "  </tbody>\n",
       "</table>\n",
       "</div>"
      ],
      "text/plain": [
       "   movieId                               title  \\\n",
       "0        1                    Toy Story (1995)   \n",
       "1        2                      Jumanji (1995)   \n",
       "2        3             Grumpier Old Men (1995)   \n",
       "3        4            Waiting to Exhale (1995)   \n",
       "4        5  Father of the Bride Part II (1995)   \n",
       "\n",
       "                                        genres  \n",
       "0  Adventure|Animation|Children|Comedy|Fantasy  \n",
       "1                   Adventure|Children|Fantasy  \n",
       "2                               Comedy|Romance  \n",
       "3                         Comedy|Drama|Romance  \n",
       "4                                       Comedy  "
      ]
     },
     "execution_count": 3,
     "metadata": {},
     "output_type": "execute_result"
    }
   ],
   "source": [
    "movies.head()"
   ]
  },
  {
   "cell_type": "code",
   "execution_count": 4,
   "id": "2d6c670a",
   "metadata": {},
   "outputs": [
    {
     "data": {
      "text/html": [
       "<div>\n",
       "<style scoped>\n",
       "    .dataframe tbody tr th:only-of-type {\n",
       "        vertical-align: middle;\n",
       "    }\n",
       "\n",
       "    .dataframe tbody tr th {\n",
       "        vertical-align: top;\n",
       "    }\n",
       "\n",
       "    .dataframe thead th {\n",
       "        text-align: right;\n",
       "    }\n",
       "</style>\n",
       "<table border=\"1\" class=\"dataframe\">\n",
       "  <thead>\n",
       "    <tr style=\"text-align: right;\">\n",
       "      <th></th>\n",
       "      <th>userId</th>\n",
       "      <th>movieId</th>\n",
       "      <th>rating</th>\n",
       "      <th>timestamp</th>\n",
       "    </tr>\n",
       "  </thead>\n",
       "  <tbody>\n",
       "    <tr>\n",
       "      <th>0</th>\n",
       "      <td>1</td>\n",
       "      <td>1</td>\n",
       "      <td>4.0</td>\n",
       "      <td>964982703</td>\n",
       "    </tr>\n",
       "    <tr>\n",
       "      <th>1</th>\n",
       "      <td>1</td>\n",
       "      <td>3</td>\n",
       "      <td>4.0</td>\n",
       "      <td>964981247</td>\n",
       "    </tr>\n",
       "    <tr>\n",
       "      <th>2</th>\n",
       "      <td>1</td>\n",
       "      <td>6</td>\n",
       "      <td>4.0</td>\n",
       "      <td>964982224</td>\n",
       "    </tr>\n",
       "    <tr>\n",
       "      <th>3</th>\n",
       "      <td>1</td>\n",
       "      <td>47</td>\n",
       "      <td>5.0</td>\n",
       "      <td>964983815</td>\n",
       "    </tr>\n",
       "    <tr>\n",
       "      <th>4</th>\n",
       "      <td>1</td>\n",
       "      <td>50</td>\n",
       "      <td>5.0</td>\n",
       "      <td>964982931</td>\n",
       "    </tr>\n",
       "  </tbody>\n",
       "</table>\n",
       "</div>"
      ],
      "text/plain": [
       "   userId  movieId  rating  timestamp\n",
       "0       1        1     4.0  964982703\n",
       "1       1        3     4.0  964981247\n",
       "2       1        6     4.0  964982224\n",
       "3       1       47     5.0  964983815\n",
       "4       1       50     5.0  964982931"
      ]
     },
     "execution_count": 4,
     "metadata": {},
     "output_type": "execute_result"
    }
   ],
   "source": [
    "ratings.head()"
   ]
  },
  {
   "cell_type": "code",
   "execution_count": 5,
   "id": "71b9f15d",
   "metadata": {},
   "outputs": [
    {
     "name": "stdout",
     "output_type": "stream",
     "text": [
      "100836\n"
     ]
    }
   ],
   "source": [
    "print(len(ratings))"
   ]
  },
  {
   "cell_type": "code",
   "execution_count": 6,
   "id": "a689676d",
   "metadata": {},
   "outputs": [
    {
     "name": "stdout",
     "output_type": "stream",
     "text": [
      "97390\n"
     ]
    }
   ],
   "source": [
    "user_counts = ratings['userId'].value_counts()\n",
    "movie_counts = ratings['movieId'].value_counts()\n",
    "ratings = ratings[\n",
    "    ratings['userId'].isin(user_counts[user_counts >= 2].index) &\n",
    "    ratings['movieId'].isin(movie_counts[movie_counts >= 2].index)\n",
    "]\n",
    "print(len(ratings))"
   ]
  },
  {
   "cell_type": "code",
   "execution_count": 7,
   "id": "3912f5b2",
   "metadata": {},
   "outputs": [
    {
     "name": "stdout",
     "output_type": "stream",
     "text": [
      "   userId  movieId  rating\n",
      "0       1        1     4.0\n",
      "1       1        3     4.0\n",
      "2       1        6     4.0\n",
      "3       1       47     5.0\n",
      "4       1       50     5.0\n",
      "(97390, 3)\n",
      "Rating scale: (0.5, 5.0)\n",
      "Type of data: <class 'surprise.dataset.DatasetAutoFolds'>\n",
      "Number of ratings: 389560\n"
     ]
    }
   ],
   "source": [
    "ratings_surprise = ratings[['userId', 'movieId', 'rating']]\n",
    "print(ratings_surprise.head())\n",
    "print(ratings_surprise.shape)\n",
    "\n",
    "from surprise import Reader\n",
    "reader = Reader(rating_scale=(0.5, 5.0))\n",
    "print(\"Rating scale:\", reader.rating_scale)\n",
    "\n",
    "from surprise import Dataset\n",
    "data = Dataset.load_from_df(ratings_surprise, reader)\n",
    "print(\"Type of data:\", type(data))\n",
    "print(\"Number of ratings:\", sum(len(r) for r in data.raw_ratings))\n",
    "\n",
    "from surprise.model_selection import train_test_split\n",
    "trainset, testset = train_test_split(data, test_size=0.2, random_state=3)"
   ]
  },
  {
   "cell_type": "code",
   "execution_count": 8,
   "id": "ed5ae7f5",
   "metadata": {},
   "outputs": [
    {
     "name": "stdout",
     "output_type": "stream",
     "text": [
      "tỷ lệ test: 0.2\n"
     ]
    }
   ],
   "source": [
    "print(\"tỷ lệ test:\", len(testset) / (trainset.n_ratings + len(testset)))"
   ]
  },
  {
   "cell_type": "code",
   "execution_count": 23,
   "id": "6f7912c7",
   "metadata": {},
   "outputs": [
    {
     "name": "stdout",
     "output_type": "stream",
     "text": [
      "params: {'n_factors': 100, 'n_epochs': 2000, 'biased': True, 'init_mean': 0, 'init_std_dev': 0.1, 'lr_bu': 0.004, 'lr_bi': 0.004, 'lr_pu': 0.004, 'lr_qi': 0.004, 'reg_bu': 0.005, 'reg_bi': 0.005, 'reg_pu': 0.005, 'reg_qi': 0.005, 'random_state': 42, 'verbose': False, 'bsl_options': {}, 'sim_options': {'user_based': True}}\n",
      "bắt đầu \n",
      "ok\n"
     ]
    }
   ],
   "source": [
    "from surprise import SVD\n",
    "svd = SVD(n_factors=100, n_epochs=2000, lr_all=0.004, reg_all=0.005, random_state=42)\n",
    "print(\"params:\", svd.__dict__)\n",
    "\n",
    "\n",
    "print(\"bắt đầu \")\n",
    "svd.fit(trainset)\n",
    "print(\"ok\")"
   ]
  },
  {
   "cell_type": "code",
   "execution_count": 24,
   "id": "3a7a4c50",
   "metadata": {},
   "outputs": [
    {
     "name": "stdout",
     "output_type": "stream",
     "text": [
      "số lượng dự đoán: 19478\n",
      "RMSE: 0.8795\n",
      "RMSE: 0.8794795050878709\n",
      "Thực tế: 3.500, Dự đoán: 3.406\n",
      "Thực tế: 3.000, Dự đoán: 3.222\n",
      "Thực tế: 4.000, Dự đoán: 3.919\n",
      "Thực tế: 4.000, Dự đoán: 4.106\n",
      "Thực tế: 3.000, Dự đoán: 2.763\n",
      "Thực tế: 4.000, Dự đoán: 3.228\n",
      "Thực tế: 1.500, Dự đoán: 3.103\n",
      "Thực tế: 4.500, Dự đoán: 4.220\n",
      "Thực tế: 2.500, Dự đoán: 3.654\n",
      "Thực tế: 4.500, Dự đoán: 3.947\n",
      "Phương sai thực tế: 0.8225\n",
      "Phương sai dự đoán: 0.211355783136689\n"
     ]
    }
   ],
   "source": [
    "predictions = svd.test(testset)\n",
    "print(\"số lượng dự đoán:\", len(predictions))\n",
    "\n",
    "from surprise import accuracy\n",
    "rmse = accuracy.rmse(predictions)\n",
    "print(\"RMSE:\", rmse)\n",
    "\n",
    "val_true = [pred.r_ui for pred in predictions[:10]]\n",
    "val_pred = [pred.est for pred in predictions[:10]]\n",
    "for true, pred in zip(val_true, val_pred):\n",
    "    print(f\"Thực tế: {true:.3f}, Dự đoán: {pred:.3f}\")\n",
    "print(\"Phương sai thực tế:\", np.var(val_true))\n",
    "print(\"Phương sai dự đoán:\", np.var(val_pred))\n"
   ]
  },
  {
   "cell_type": "code",
   "execution_count": 15,
   "id": "b484ee2c",
   "metadata": {},
   "outputs": [],
   "source": [
    "def recommend_movies(user_id, svd, movies_df, trainset, top_n=10):\n",
    "    movie_ids = [trainset.to_raw_iid(iid) for iid in trainset.all_items()]\n",
    "    predictions = [svd.predict(user_id, mid).est for mid in movie_ids]\n",
    "    top_indices = np.argsort(predictions)[::-1][:top_n]\n",
    "    recommendations = []\n",
    "    for idx in top_indices:\n",
    "        movie_id = movie_ids[idx]\n",
    "        rating = predictions[idx]\n",
    "        try:\n",
    "            title = movies_df[movies_df['movieId'] == movie_id]['title'].iloc[0]\n",
    "            recommendations.append({'Title': title, 'Predicted Rating': rating})\n",
    "        except IndexError:\n",
    "            print(f\"lỗi: movieId {movie_id} không tìm thấy.\")\n",
    "    return pd.DataFrame(recommendations, index=range(1, len(recommendations) + 1))"
   ]
  },
  {
   "cell_type": "code",
   "execution_count": 16,
   "id": "4038638d",
   "metadata": {},
   "outputs": [
    {
     "name": "stdout",
     "output_type": "stream",
     "text": [
      "                                                Title  Predicted Rating\n",
      "1                  Play Time (a.k.a. Playtime) (1967)               5.0\n",
      "2                                    127 Hours (2010)               5.0\n",
      "3                               Shall We Dance (1937)               5.0\n",
      "4                            Captain Fantastic (2016)               5.0\n",
      "5   City of Lost Children, The (Cité des enfants p...               5.0\n",
      "6                                      Memento (2000)               5.0\n",
      "7                                      Boyhood (2014)               5.0\n",
      "8                                 Hustler, The (1961)               5.0\n",
      "9                                  Hoop Dreams (1994)               5.0\n",
      "10                            Harold and Maude (1971)               5.0\n"
     ]
    }
   ],
   "source": [
    "recommendations = recommend_movies(1, svd, movies, trainset)\n",
    "print(recommendations)"
   ]
  },
  {
   "cell_type": "markdown",
   "id": "e8c9505c",
   "metadata": {},
   "source": [
    "###  Hàm đề xuất cho người dùng mới với đanh giá mới"
   ]
  },
  {
   "cell_type": "code",
   "execution_count": null,
   "id": "eb901494",
   "metadata": {},
   "outputs": [],
   "source": [
    "def recommend_for_new_user(new_ratings, svd, movies_df, trainset, top_n=10):\n",
    "    new_user_id = max([trainset.to_raw_uid(uid) for uid in trainset.all_users()]) + 1\n",
    "    new_ratings_df = pd.DataFrame(new_ratings, columns=['movieId', 'rating'])\n",
    "    new_ratings_df['userId'] = new_user_id\n",
    "    combined_ratings = pd.concat([ratings[['userId', 'movieId', 'rating']], new_ratings_df])\n",
    "    new_data = Dataset.load_from_df(combined_ratings[['userId', 'movieId', 'rating']], reader)\n",
    "    new_trainset = new_data.build_full_trainset()\n",
    "    svd_new = SVD(n_factors=150, n_epochs=200, lr_all=0.005, reg_all=0.02, random_state=42)\n",
    "    svd_new.fit(new_trainset)\n",
    "    movie_ids = [trainset.to_raw_iid(iid) for iid in trainset.all_items()]\n",
    "    predictions = [svd_new.predict(new_user_id, mid).est for mid in movie_ids]\n",
    "    top_indices = np.argsort(predictions)[::-1][:top_n]\n",
    "    recommendations = []\n",
    "    for idx in top_indices:\n",
    "        movie_id = movie_ids[idx]\n",
    "        rating = predictions[idx]\n",
    "        try:\n",
    "            title = movies_df[movies_df['movieId'] == movie_id]['title'].iloc[0]\n",
    "            recommendations.append({'Title': title, 'Predicted Rating': rating})\n",
    "        except IndexError:\n",
    "            print(f\"Cảnh báo: movieId {movie_id} không tìm thấy.\")\n",
    "    return pd.DataFrame(recommendations, index=range(1, len(recommendations) + 1))"
   ]
  },
  {
   "cell_type": "code",
   "execution_count": 18,
   "id": "49b18caa",
   "metadata": {},
   "outputs": [
    {
     "name": "stdout",
     "output_type": "stream",
     "text": [
      "                                          Title  Predicted Rating\n",
      "1              Shawshank Redemption, The (1994)          4.435438\n",
      "2                     Lawrence of Arabia (1962)          4.365897\n",
      "3                          Touch of Evil (1958)          4.334683\n",
      "4   Wallace & Gromit: The Wrong Trousers (1993)          4.333141\n",
      "5                             Casablanca (1942)          4.311231\n",
      "6                           Forrest Gump (1994)          4.307941\n",
      "7                Godfather: Part II, The (1974)          4.288378\n",
      "8                     American History X (1998)          4.284341\n",
      "9                            Hoop Dreams (1994)          4.256962\n",
      "10                               Amadeus (1984)          4.246918\n"
     ]
    }
   ],
   "source": [
    "new_user_ratings = [(1, 5.0), (2, 1.0)]\n",
    "new_recommendations = recommend_for_new_user(new_user_ratings, svd, movies, trainset)\n",
    "print(new_recommendations)"
   ]
  }
 ],
 "metadata": {
  "kernelspec": {
   "display_name": "Python (venv-btl2)",
   "language": "python",
   "name": "venv-btl2"
  },
  "language_info": {
   "codemirror_mode": {
    "name": "ipython",
    "version": 3
   },
   "file_extension": ".py",
   "mimetype": "text/x-python",
   "name": "python",
   "nbconvert_exporter": "python",
   "pygments_lexer": "ipython3",
   "version": "3.10.11"
  }
 },
 "nbformat": 4,
 "nbformat_minor": 5
}
