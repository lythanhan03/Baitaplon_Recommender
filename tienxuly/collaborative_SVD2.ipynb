{
 "cells": [
  {
   "cell_type": "code",
   "execution_count": 1,
   "id": "53460ce3",
   "metadata": {},
   "outputs": [],
   "source": [
    "import pandas as pd\n",
    "import numpy as np\n",
    "from pathlib import Path\n",
    "from sklearn.decomposition import TruncatedSVD\n",
    "from sklearn.metrics import mean_squared_error\n",
    "from scipy.sparse import csr_matrix\n",
    "import matplotlib.pyplot as plt\n",
    "import seaborn as sns"
   ]
  },
  {
   "cell_type": "code",
   "execution_count": 2,
   "id": "9b826d73",
   "metadata": {},
   "outputs": [],
   "source": [
    "movies = pd.read_csv(\"movies.csv\")\n",
    "ratings = pd.read_csv(\"ratings.csv\")"
   ]
  },
  {
   "cell_type": "code",
   "execution_count": 3,
   "id": "06dcc55e",
   "metadata": {},
   "outputs": [
    {
     "name": "stdout",
     "output_type": "stream",
     "text": [
      "   movieId                               title  \\\n",
      "0        1                    Toy Story (1995)   \n",
      "1        2                      Jumanji (1995)   \n",
      "2        3             Grumpier Old Men (1995)   \n",
      "3        4            Waiting to Exhale (1995)   \n",
      "4        5  Father of the Bride Part II (1995)   \n",
      "\n",
      "                                        genres  \n",
      "0  Adventure|Animation|Children|Comedy|Fantasy  \n",
      "1                   Adventure|Children|Fantasy  \n",
      "2                               Comedy|Romance  \n",
      "3                         Comedy|Drama|Romance  \n",
      "4                                       Comedy  \n"
     ]
    }
   ],
   "source": [
    "print(movies.head())"
   ]
  },
  {
   "cell_type": "code",
   "execution_count": 4,
   "id": "42ceae7d",
   "metadata": {},
   "outputs": [
    {
     "name": "stdout",
     "output_type": "stream",
     "text": [
      "   userId  movieId  rating   timestamp\n",
      "0       1      296     5.0  1147880044\n",
      "1       1      306     3.5  1147868817\n",
      "2       1      307     5.0  1147868828\n",
      "3       1      665     5.0  1147878820\n",
      "4       1      899     3.5  1147868510\n"
     ]
    }
   ],
   "source": [
    "print(ratings.head())"
   ]
  },
  {
   "cell_type": "code",
   "execution_count": 5,
   "id": "6383c3a2",
   "metadata": {},
   "outputs": [
    {
     "name": "stdout",
     "output_type": "stream",
     "text": [
      "25000095\n"
     ]
    }
   ],
   "source": [
    "print(len(ratings))"
   ]
  },
  {
   "cell_type": "code",
   "execution_count": 6,
   "id": "25becedd",
   "metadata": {},
   "outputs": [],
   "source": [
    "user_counts = ratings['userId'].value_counts()\n",
    "movie_counts = ratings['movieId'].value_counts()\n",
    "ratings = ratings[\n",
    "    ratings['userId'].isin(user_counts[user_counts >= 3].index) &\n",
    "    ratings['movieId'].isin(movie_counts[movie_counts >= 3].index)\n",
    "]"
   ]
  },
  {
   "cell_type": "code",
   "execution_count": 7,
   "id": "edfd7e7c",
   "metadata": {},
   "outputs": [
    {
     "name": "stdout",
     "output_type": "stream",
     "text": [
      "24974531\n"
     ]
    }
   ],
   "source": [
    "print(len(ratings))"
   ]
  },
  {
   "cell_type": "code",
   "execution_count": 55,
   "id": "4ce530b4",
   "metadata": {},
   "outputs": [
    {
     "name": "stdout",
     "output_type": "stream",
     "text": [
      "Có giá trị null trong ratings: 0\n"
     ]
    }
   ],
   "source": [
    "print(\"Có giá trị null trong ratings:\", ratings.isnull().sum().sum())"
   ]
  },
  {
   "cell_type": "code",
   "execution_count": 8,
   "id": "62ccff52",
   "metadata": {},
   "outputs": [
    {
     "name": "stdout",
     "output_type": "stream",
     "text": [
      "19979459 4995072\n"
     ]
    }
   ],
   "source": [
    "np.random.seed(3)\n",
    "msk = np.random.rand(len(ratings)) < 0.8\n",
    "train = ratings[msk].copy()\n",
    "val = ratings[~msk].copy()\n",
    "print(len(train), len(val))"
   ]
  },
  {
   "cell_type": "code",
   "execution_count": 9,
   "id": "9ebeee52",
   "metadata": {},
   "outputs": [],
   "source": [
    "# Bước 4: Tạo ma trận thưa người dùng-phim\n",
    "user_ids = train['userId'].unique()\n",
    "movie_ids = train['movieId'].unique()\n",
    "user_id_map = {uid: i for i, uid in enumerate(user_ids)}\n",
    "movie_id_map = {mid: i for i, mid in enumerate(movie_ids)}"
   ]
  },
  {
   "cell_type": "code",
   "execution_count": 10,
   "id": "49ac0121",
   "metadata": {},
   "outputs": [],
   "source": [
    "rows = [user_id_map[uid] for uid in train['userId']]\n",
    "cols = [movie_id_map[mid] for mid in train['movieId']]\n",
    "data = train['rating'].values"
   ]
  },
  {
   "cell_type": "code",
   "execution_count": 11,
   "id": "f68199cb",
   "metadata": {},
   "outputs": [
    {
     "name": "stdout",
     "output_type": "stream",
     "text": [
      "(162541, 41086)\n",
      "Số phần tử khác 0: 19979459\n",
      "Tỷ lệ thưa: 0.9970082387337088\n"
     ]
    }
   ],
   "source": [
    "global_mean = train['rating'].mean()\n",
    "user_means = train.groupby('userId')['rating'].mean().to_dict()\n",
    "item_means = train.groupby('movieId')['rating'].mean().to_dict()\n",
    "data_normalized = [\n",
    "    r - (user_means.get(uid, global_mean) + item_means.get(mid, global_mean) - global_mean)\n",
    "    for uid, mid, r in zip(train['userId'], train['movieId'], train['rating'])\n",
    "]\n",
    "train_matrix = csr_matrix((data_normalized, (rows, cols)), shape=(len(user_ids), len(movie_ids)))\n",
    "print(train_matrix.shape)\n",
    "print(\"Số phần tử khác 0:\", train_matrix.nnz)\n",
    "print(\"Tỷ lệ thưa:\", 1 - train_matrix.nnz / (train_matrix.shape[0] * train_matrix.shape[1]))"
   ]
  },
  {
   "cell_type": "code",
   "execution_count": 12,
   "id": "b6ef3130",
   "metadata": {},
   "outputs": [
    {
     "name": "stdout",
     "output_type": "stream",
     "text": [
      "\n",
      "Bắt đầu huấn luyện TruncatedSVD...\n",
      "Huấn luyện hoàn tất.\n",
      "Kích thước ma trận sau SVD: (162541, 200)\n",
      "Tỷ lệ phương sai: 0.2968308959464928\n"
     ]
    }
   ],
   "source": [
    "n_components = 200\n",
    "svd = TruncatedSVD(n_components=n_components, random_state=42)\n",
    "print(\"\\nBắt đầu huấn luyện TruncatedSVD...\")\n",
    "train_matrix_svd = svd.fit_transform(train_matrix)\n",
    "print(\"Huấn luyện hoàn tất.\")\n",
    "print(f\"Kích thước ma trận sau SVD: {train_matrix_svd.shape}\")\n",
    "print(\"Tỷ lệ phương sai:\", sum(svd.explained_variance_ratio_))"
   ]
  },
  {
   "cell_type": "code",
   "execution_count": 13,
   "id": "f106890b",
   "metadata": {},
   "outputs": [],
   "source": [
    "val_true = []\n",
    "val_pred = []\n",
    "for _, row in val.iterrows():\n",
    "    user_id = row['userId']\n",
    "    movie_id = row['movieId']\n",
    "    rating = row['rating']\n",
    "    if user_id in user_id_map and movie_id in movie_id_map:\n",
    "        user_idx = user_id_map[user_id]\n",
    "        movie_idx = movie_id_map[movie_id]\n",
    "        pred = np.dot(train_matrix_svd[user_idx], svd.components_[:, movie_idx])\n",
    "        pred += user_means.get(user_id, global_mean) + item_means.get(movie_id, global_mean) - global_mean\n",
    "        pred = np.clip(pred, 0.5, 5.0)\n",
    "        val_true.append(rating)\n",
    "        val_pred.append(pred)\n",
    "rmse = np.sqrt(mean_squared_error(val_true, val_pred)) if val_true else float('inf')"
   ]
  },
  {
   "cell_type": "code",
   "execution_count": 14,
   "id": "93f3aaf4",
   "metadata": {},
   "outputs": [
    {
     "name": "stdout",
     "output_type": "stream",
     "text": [
      "\n",
      "RMSE-validation: 0.847\n",
      "Số lượng đánh giá được so sánh: 4994974\n",
      "Thực tế: 3.500, Dự đoán: 4.334\n",
      "Thực tế: 4.000, Dự đoán: 3.537\n",
      "Thực tế: 4.500, Dự đoán: 4.423\n",
      "Thực tế: 4.000, Dự đoán: 4.393\n",
      "Thực tế: 2.000, Dự đoán: 3.570\n",
      "Thực tế: 5.000, Dự đoán: 4.092\n",
      "Thực tế: 2.000, Dự đoán: 3.450\n",
      "Thực tế: 3.500, Dự đoán: 3.556\n",
      "Thực tế: 4.500, Dự đoán: 3.991\n",
      "Thực tế: 3.500, Dự đoán: 3.606\n",
      "Phương sai của dự đoán: 0.501\n",
      "Phương sai của thực tế: 1.123\n"
     ]
    }
   ],
   "source": [
    "print(f\"\\nRMSE-validation: {rmse:.3f}\")\n",
    "print(\"Số lượng đánh giá được so sánh:\", len(val_true))\n",
    "for true, pred in zip(val_true[:10], val_pred[:10]):\n",
    "    print(f\"Thực tế: {true:.3f}, Dự đoán: {pred:.3f}\")\n",
    "print(f\"Phương sai của dự đoán: {np.var(val_pred):.3f}\")\n",
    "print(f\"Phương sai của thực tế: {np.var(val_true):.3f}\")"
   ]
  }
 ],
 "metadata": {
  "kernelspec": {
   "display_name": "Python 3",
   "language": "python",
   "name": "python3"
  },
  "language_info": {
   "codemirror_mode": {
    "name": "ipython",
    "version": 3
   },
   "file_extension": ".py",
   "mimetype": "text/x-python",
   "name": "python",
   "nbconvert_exporter": "python",
   "pygments_lexer": "ipython3",
   "version": "3.10.11"
  }
 },
 "nbformat": 4,
 "nbformat_minor": 5
}
